{
 "cells": [
  {
   "cell_type": "code",
   "metadata": {
    "ExecuteTime": {
     "end_time": "2024-12-13T11:44:39.091607Z",
     "start_time": "2024-12-13T11:44:39.089086Z"
    }
   },
   "source": [
    "import pandas as pd\n",
    "import numpy as np\n",
    "import matplotlib.pyplot as plt"
   ],
   "outputs": [],
   "execution_count": 2
  },
  {
   "attachments": {
    "image-2.png": {
     "image/png": "[encoded data removed]"
    },
    "image-3.png": {
     "image/png": "[encoded data removed]"
    },
    "image.png": {
     "image/png": "[encoded data removed]"
    }
   },
   "cell_type": "markdown",
   "metadata": {},
   "source": [
    "# This code tries to solve the joint distribution of the P_1 vector\n",
    "\n",
    "The P1 vector is multivariate lognormally distributed. This is the case because each variable in the vector is lognormally distributed. To get the distribution of this vector, we first need to calculate the parameters of the lognormal distribution for each variable. To get this distribution, we have to know the components of these equations depicting the mean of the lognormal variable and the variance of the lognormal variable:\n",
    "![image.png](attachment:image.png)\n",
    "\n",
    "The elements of this equation is the mean of the log variables (the normally distributed variables).\n",
    "\n",
    "To get those we need to calculate the expected value of each variable 1 year into the future, and the variance of the variable 1 year into the future. The variance of the variable accumulates linearly over time, as well as the mean. We can therefore use these equations to calculate the parameters 1 year into the future:\n",
    "\n",
    "![image-2.png](attachment:image-2.png)\n",
    "\n",
    "![image-3.png](attachment:image-3.png)\n",
    "\n",
    "FX_1 is lognormally distributed. The initial logFX_0 is fixed, and the ΔlogFX_t is normally distributed. When calculating logFX_1 as logFX_1 = logFX_0 + 52 * E[ΔlogFX_t] we get a normally distributed logFX_1. When taking the exponent of this it becomes lognormally distributed. We can get the distribution of this through the above equations."
   ]
  },
  {
   "cell_type": "markdown",
   "metadata": {},
   "source": [
    "# Mean and variance of FX_t"
   ]
  },
  {
   "cell_type": "code",
   "metadata": {
    "ExecuteTime": {
     "end_time": "2024-12-13T11:47:13.428194Z",
     "start_time": "2024-12-13T11:47:13.425066Z"
    }
   },
   "source": [
    "# Calculate normal distribution mean\n",
    "logfx_0 = 0.055292786\n",
    "delta_logfx_t = 0\n",
    "\n",
    "mean_logfx_1 = logfx_0 + 52 * delta_logfx_t\n",
    "\n",
    "\n",
    "# Calculate Variance\n",
    "var_delta_logfx_t = 0.000112779511530278\n",
    "\n",
    "var_logfx_1 = var_delta_logfx_t * 52 #=0.005864534599574456\n",
    "\n",
    "\n",
    "# Calculate the lognormal mean\n",
    "mean_fx_1 = np.exp(mean_logfx_1 + var_logfx_1/2)\n",
    "\n",
    "# Calculate the lognormal variance\n",
    "var_fx_1 = (np.exp(var_logfx_1) - 1) * np.exp(2 * mean_logfx_1 + var_logfx_1)\n",
    "# = 0.006608171132947867\n",
    "\n",
    "# the number of USD to buy 1 EUR in zero years is 1.0568500002655772\n",
    "fx_0 = np.exp(logfx_0)\n",
    "print(fx_0)\n",
    "\n",
    "# the number of USD to buy 1 EUR in one year is 1.0599535283673007\n",
    "print(mean_fx_1)\n",
    "\n",
    "print(var_fx_1)\n"
   ],
   "outputs": [
    {
     "name": "stdout",
     "output_type": "stream",
     "text": [
      "1.0568500002655772\n",
      "1.0599535149056654\n",
      "0.006608171132947867\n"
     ]
    }
   ],
   "execution_count": 4
  },
  {
   "cell_type": "markdown",
   "metadata": {},
   "source": [
    "# Mean and variance of V_1 US LOCAL"
   ]
  },
  {
   "cell_type": "code",
   "metadata": {
    "ExecuteTime": {
     "end_time": "2024-12-13T12:08:20.197833Z",
     "start_time": "2024-12-13T12:08:20.194195Z"
    }
   },
   "source": [
    "# initial value\n",
    "log_v_0_us_local = 0\n",
    "delta_log_v_0_us_local = 0.07 * 1 / 52\n",
    "\n",
    "mean_log_v_1_us_local = log_v_0_us_local + 52 * delta_log_v_0_us_local\n",
    "print(mean_log_v_1_us_local)\n",
    "\n",
    "# Calculate variance\n",
    "var_delta_log_v_0_us_local = 0.000428008868650075\n",
    "\n",
    "var_log_v_1_us_local = 52 * var_delta_log_v_0_us_local\n",
    "print(var_log_v_1_us_local)\n",
    "\n",
    "# Calculate the lognormal mean\n",
    "mean_v_1_us_local = np.exp(mean_log_v_1_us_local + var_log_v_1_us_local/2)\n",
    "\n",
    "# Calculate the lognormal variance\n",
    "var_v_1_us_local = (np.exp(var_log_v_1_us_local) - 1) * np.exp(2 * mean_log_v_1_us_local + var_log_v_1_us_local)\n",
    "\n",
    "# the value of US equity in USD in zero years is 1.0\n",
    "v_0_us_local = np.exp(log_v_0_us_local)\n",
    "print(v_0_us_local)\n",
    "\n",
    "# the value of US equity in USD in 1 year is 1.084509954996659\n",
    "print(mean_v_1_us_local)\n",
    "\n",
    "\n",
    "print(var_v_1_us_local)"
   ],
   "outputs": [
    {
     "name": "stdout",
     "output_type": "stream",
     "text": [
      "0.07\n",
      "0.022256461169803902\n",
      "1.0\n",
      "1.084509954996659\n",
      "0.02647067952347849\n"
     ]
    }
   ],
   "execution_count": 7
  },
  {
   "cell_type": "code",
   "execution_count": 109,
   "metadata": {},
   "outputs": [
    {
     "data": {
      "text/plain": [
       "np.float64(1.023167468899029)"
      ]
     },
     "execution_count": 109,
     "metadata": {},
     "output_type": "execute_result"
    }
   ],
   "source": [
    "v_1_us = 1/mean_fx_1 * mean_v_1_us_local\n",
    "\n",
    "# Value of USD equities in EUR in one year.\n",
    "v_1_us"
   ]
  },
  {
   "cell_type": "markdown",
   "metadata": {},
   "source": [
    "# Mean and variance of V_1 EU"
   ]
  },
  {
   "cell_type": "code",
   "metadata": {
    "ExecuteTime": {
     "end_time": "2024-12-13T12:14:14.236696Z",
     "start_time": "2024-12-13T12:14:14.234093Z"
    }
   },
   "source": [
    "# initial value\n",
    "log_v_0_eu = 0\n",
    "delta_log_v_0_eu = 0.06 * 1 / 52\n",
    "\n",
    "mean_log_v_1_eu = log_v_0_eu + 52 * delta_log_v_0_eu\n",
    "\n",
    "# Calculate variance\n",
    "var_delta_log_v_0_eu = 0.000465448340811723\n",
    "\n",
    "var_log_v_1_eu = 52 * var_delta_log_v_0_eu\n",
    "\n",
    "# Calculate the lognormal mean\n",
    "mean_v_1_eu = np.exp(mean_log_v_1_eu + var_log_v_1_eu/2)\n",
    "\n",
    "# Calculate the lognormal variance\n",
    "var_v_1_eu = (np.exp(var_log_v_1_eu) - 1) * np.exp(2 * mean_log_v_1_eu + var_log_v_1_eu)\n",
    "\n",
    "# the value of EU equity in EUR in zero years is 1.0\n",
    "v_0_eu = np.exp(log_v_0_eu)\n",
    "print(v_0_eu)\n",
    "\n",
    "# the value of EU equity in EUR in 1 year is 1.074764595705856\n",
    "print(mean_v_1_eu)"
   ],
   "outputs": [
    {
     "name": "stdout",
     "output_type": "stream",
     "text": [
      "1.0\n",
      "1.074764595705856\n",
      "0.0282987867660399\n"
     ]
    }
   ],
   "execution_count": 9
  },
  {
   "cell_type": "markdown",
   "metadata": {},
   "source": [
    "# Mean and variance of y1_4 and Z1_4 USD"
   ]
  },
  {
   "cell_type": "code",
   "metadata": {
    "ExecuteTime": {
     "end_time": "2024-12-13T12:39:41.887855Z",
     "start_time": "2024-12-13T12:39:41.884839Z"
    }
   },
   "source": [
    "# Given initial value data for year 3 and 5.\n",
    "y0_3 = 0.038206506  # Initial 3-year yield (2.5%)\n",
    "y0_5 = 0.037408587  # Initial 5-year yield (3.5%)\n",
    "# Variance of changes in 3-year and 5-year yields from the covariance matrix\n",
    "var_delta_yt_3 = 1.09022E-06  # Variance of change in 3-year yield\n",
    "var_delta_yt_5 = 1.16941E-06  # Variance of change in 5-year yield\n",
    "\n",
    "# Step 1: Calculate the initial 4-year yield using linear interpolation\n",
    "y0_4 = y0_3 + ((4 - 3) / (5 - 3)) * (y0_5 - y0_3)\n",
    "\n",
    "# mean change per week\n",
    "delta_y0_4 = 0\n",
    "\n",
    "# total change after 1 year\n",
    "mean_y1_4 = y0_4 + 52 * delta_y0_4\n",
    "\n",
    "# calculate 4-year yield variance in 1 year\n",
    "var_delta_yt_4 = var_delta_yt_3 + ((4 - 3) / (5 - 3)) * (var_delta_yt_5 - var_delta_yt_3)\n",
    "\n",
    "# total variance after 1 year\n",
    "var_y1_4 = 52 * var_delta_yt_4\n",
    "\n",
    "\n",
    "#########\n",
    "# Since Z1_4 = exp(-y1_4 * 4), and y1_4 is normally distributed with:\n",
    "# mean mean_y1_4 and variance var_y1_4, we use the properties of the log-normal\n",
    "# distribution to compute the mean and variance of Z1_4\n",
    "\n",
    "# calculate mean of bond price (lognormal mean)\n",
    "mean_Z1_4 = np.exp(-mean_y1_4 * 4 + (var_y1_4*16)/2)\n",
    "\n",
    "# calculate variance of bond price (lognormal var)\n",
    "var_Z1_4 = (np.exp(16*var_y1_4)-1) * np.exp(2*-mean_y1_4*4+16*var_y1_4)\n",
    "\n",
    "print(var_y1_4,mean_y1_4)\n",
    "print(var_Z1_4)"
   ],
   "outputs": [
    {
     "name": "stdout",
     "output_type": "stream",
     "text": [
      "5.875038e-05 0.0378075465\n",
      "0.000695642596220734\n"
     ]
    }
   ],
   "execution_count": 15
  },
  {
   "cell_type": "markdown",
   "metadata": {},
   "source": [
    "# Mean and variance of y1_4 and Z1_4 EUR"
   ]
  },
  {
   "cell_type": "code",
   "metadata": {
    "ExecuteTime": {
     "end_time": "2024-12-13T12:44:30.165763Z",
     "start_time": "2024-12-13T12:44:30.160699Z"
    }
   },
   "source": [
    "# Given initial value data for year 3 and 5\n",
    "EUR_y0_3 = 0.019712339  # Initial 3-year yield (2.5%)\n",
    "EUR_y0_5 = 0.020047308  # Initial 5-year yield (3.5%)\n",
    "\n",
    "# Variance of changes in 3-year and 5-year yields from the covariance matrix\n",
    "EUR_var_delta_yt_3 = 6.67604E-07  # Variance of change in 3-year yield\n",
    "EUR_var_delta_yt_5 = 7.24487E-07  # Variance of change in 5-year yield\n",
    "\n",
    "# Step 1: Calculate the initial 4-year yield using linear interpolation\n",
    "EUR_y0_4 = EUR_y0_3 + ((4 - 3) / (5 - 3)) * (EUR_y0_5 - EUR_y0_3)\n",
    "\n",
    "# Mean change per week\n",
    "EUR_delta_y0_4 = 0\n",
    "\n",
    "# Total change after 1 year\n",
    "EUR_mean_y1_4 = EUR_y0_4 + 52 * EUR_delta_y0_4\n",
    "\n",
    "# Calculate the weekly time step variance through interpolation\n",
    "EUR_var_delta_yt_4 = EUR_var_delta_yt_3 + ((4 - 3) / (5 - 3)) * (EUR_var_delta_yt_5 - EUR_var_delta_yt_3)\n",
    "\n",
    "# Total variance after 1 year\n",
    "EUR_var_y1_4 = 52 * EUR_var_delta_yt_4\n",
    "\n",
    "#########\n",
    "# Since Z1_4 = exp(-y1_4 * 4), and y1_4 is normally distributed with:\n",
    "# mean EUR_mean_y1_4 and variance EUR_var_y1_4, we use the properties of the log-normal\n",
    "# distribution to compute the mean and variance of Z1_4\n",
    "\n",
    "# Calculate mean of bond price (lognormal mean)\n",
    "EUR_mean_Z1_4 = np.exp(-EUR_mean_y1_4 * 4 + (EUR_var_y1_4 * 16) / 2)\n",
    "\n",
    "# Calculate variance of bond price (lognormal variance)\n",
    "EUR_var_Z1_4 = (np.exp(16 * EUR_var_y1_4) - 1) * np.exp(2 * -EUR_mean_y1_4 * 4 + 16 * EUR_var_y1_4)\n",
    "\n",
    "print(EUR_var_Z1_4)\n",
    "\n",
    "\n",
    "print(EUR_mean_y1_4,EUR_var_y1_4,EUR_mean_Z1_4,EUR_var_Z1_4)"
   ],
   "outputs": [
    {
     "name": "stdout",
     "output_type": "stream",
     "text": [
      "0.0004943888159155057\n",
      "0.019879823499999998 3.6194366e-05 0.9238276607539192 0.0004943888159155057\n"
     ]
    }
   ],
   "execution_count": 16
  },
  {
   "cell_type": "markdown",
   "metadata": {},
   "source": [
    "# Complete vector of means for the H1 vector\n",
    "\n",
    "H1 vector is the vector that needs to be transformed into the P1 vector."
   ]
  },
  {
   "cell_type": "code",
   "execution_count": 113,
   "metadata": {},
   "outputs": [
    {
     "data": {
      "text/plain": [
       "[0.055292786, 0.07, 0.06, 0.0378075465, 0.019879823499999998]"
      ]
     },
     "execution_count": 113,
     "metadata": {},
     "output_type": "execute_result"
    }
   ],
   "source": [
    "mu_log = [mean_logfx_1, mean_log_v_1_us_local, mean_log_v_1_eu, mean_y1_4, EUR_mean_y1_4]\n",
    "mu_log"
   ]
  },
  {
   "cell_type": "code",
   "execution_count": 114,
   "metadata": {},
   "outputs": [],
   "source": [
    "# TO PLOT THE LOGNORM DISTRIBUTION WE USE LOGNORM FUNCTION IN SCIPY.STATS\n",
    "# THIS FUNCTION TAKES THE LOG OF THE LOGNORMALLY DISTRIBUTED VARIABLE.\n",
    "# YOU WOULD THINK FOR Z1_4 THAT THIS IS Y1_4, BUT YOU WOULD BE MISTAKEN.\n",
    "# IT IS ACTUALLY LOG(Z1_4) WHICH IS -4 * Y1_4. DAMN BRUH."
   ]
  },
  {
   "cell_type": "markdown",
   "metadata": {},
   "source": [
    "# Create filtered covariance matrix containing 4 year yields instead of 3 and 5 year yields"
   ]
  },
  {
   "cell_type": "markdown",
   "metadata": {},
   "source": [
    "This code interpolates the values in the covariance matrix to get the values for the 4Y USD and EUR yield in the covaraince matrix."
   ]
  },
  {
   "cell_type": "code",
   "metadata": {
    "ExecuteTime": {
     "end_time": "2024-12-13T14:25:07.489410Z",
     "start_time": "2024-12-13T14:25:07.463798Z"
    }
   },
   "source": [
    "import pandas as pd\n",
    "\n",
    "# Step 1: Load the covariance matrix from the Excel file\n",
    "file_path = 'covariance_matrix.xlsx'  # Update this path to the correct file location\n",
    "cov_matrix_df = pd.read_excel(r\"/Users/osito/Library/CloudStorage/OneDrive-CBS-CopenhagenBusinessSchool/Masters/3. Semester/Library/PyExam/Data/covariance_matrix.xlsx\", index_col=0)\n",
    "\n",
    "# Step 2: Extract relevant rows and columns for interpolation\n",
    "usd_3y_5y = cov_matrix_df.loc[['3Y USD', '5Y USD']]\n",
    "eur_3y_5y = cov_matrix_df.loc[['3Y EUR', '5Y EUR']]\n",
    "print(usd_3y_5y)\n",
    "print(eur_3y_5y)\n",
    "\n",
    "# Step 3: Interpolate the entire row and column for 4Y USD and 4Y EUR with respect to all variables\n",
    "interpolated_4y_usd = usd_3y_5y.loc['3Y USD'] + (usd_3y_5y.loc['5Y USD'] - usd_3y_5y.loc['3Y USD']) * (4 - 3) / (5 - 3)\n",
    "interpolated_4y_eur = eur_3y_5y.loc['3Y EUR'] + (eur_3y_5y.loc['5Y EUR'] - eur_3y_5y.loc['3Y EUR']) * (4 - 3) / (5 - 3)\n",
    "print(interpolated_4y_usd)\n",
    "print(interpolated_4y_eur)\n",
    "\n",
    "# Step 4: Insert the interpolated 4Y USD and 4Y EUR rows into the covariance matrix\n",
    "cov_matrix_df.loc['4Y USD'] = interpolated_4y_usd\n",
    "cov_matrix_df.loc['4Y EUR'] = interpolated_4y_eur\n",
    "\n",
    "# Step 5: Insert the interpolated 4Y USD and 4Y EUR columns into the covariance matrix\n",
    "cov_matrix_df['4Y USD'] = interpolated_4y_usd\n",
    "cov_matrix_df['4Y EUR'] = interpolated_4y_eur\n",
    "\n",
    "# Step 6: Interpolate the diagonal variances for 4Y USD and 4Y EUR\n",
    "cov_matrix_df.loc['4Y USD', '4Y USD'] = usd_3y_5y.loc['3Y USD', '3Y USD'] + (usd_3y_5y.loc['5Y USD', '5Y USD'] - usd_3y_5y.loc['3Y USD', '3Y USD']) * (4 - 3) / (5 - 3)\n",
    "cov_matrix_df.loc['4Y EUR', '4Y EUR'] = eur_3y_5y.loc['3Y EUR', '3Y EUR'] + (eur_3y_5y.loc['5Y EUR', '5Y EUR'] - eur_3y_5y.loc['3Y EUR', '3Y EUR']) * (4 - 3) / (5 - 3)\n",
    "\n",
    "# Step 7: Interpolate the cross-covariance between 4Y USD and 4Y EUR\n",
    "cov_4y_usd_4y_eur = cov_matrix_df.loc['3Y USD', '3Y EUR'] + (cov_matrix_df.loc['5Y USD', '5Y EUR'] - cov_matrix_df.loc['3Y USD', '3Y EUR']) * (4 - 3) / (5 - 3)\n",
    "cov_matrix_df.loc['4Y USD', '4Y EUR'] = cov_4y_usd_4y_eur\n",
    "cov_matrix_df.loc['4Y EUR', '4Y USD'] = cov_4y_usd_4y_eur\n",
    "# The code line linearly interpolates the covariance between the 4Y USD yield and the 4Y EUR yield using the covariances at 3Y and 5Y.\n",
    "\n",
    "# Step 8: Filter the covariance matrix to only keep the required variables\n",
    "required_variables = ['fx_spot', 'EQV US', 'EQV EUR', '4Y USD', '4Y EUR']\n",
    "filtered_cov_matrix_df = cov_matrix_df.loc[required_variables, required_variables]\n",
    "\n",
    "# Bring the variances and covariances 52 weeks into the future so t=1.\n",
    "filtered_cov_matrix_df = filtered_cov_matrix_df*52\n",
    "\n",
    "\n",
    "# Optional: Save the filtered covariance matrix to a new Excel file\n",
    "filtered_cov_matrix_df.to_excel('filtered_covariance_matrix.xlsx')\n",
    "\n",
    "print(filtered_cov_matrix_df)\n",
    "# THIS covariance matrix includes the variances and covariances of the bonds. The labels need to be renamed to reflect this.\n",
    "# These were found through the rule for the variance of a scaled variable.\n"
   ],
   "outputs": [
    {
     "name": "stdout",
     "output_type": "stream",
     "text": [
      "         fx_spot    EQV US   EQV EUR        1M EUR        1Y EUR  \\\n",
      "3Y USD -0.000003  0.000002  0.000004  1.823498e-08  3.476575e-07   \n",
      "5Y USD -0.000003  0.000002  0.000003  1.297911e-08  3.186421e-07   \n",
      "\n",
      "              3Y EUR        5Y EUR        7Y EUR       10Y EUR        1M USD  \\\n",
      "3Y USD  5.835875e-07  6.114277e-07  6.166160e-07  6.145875e-07  1.319325e-07   \n",
      "5Y USD  5.856884e-07  6.537678e-07  6.840420e-07  7.037070e-07  1.036342e-07   \n",
      "\n",
      "              1Y USD    3Y USD    5Y USD    7Y USD       10Y USD  \n",
      "3Y USD  7.388585e-07  0.000001  0.000001  0.000001  9.479386e-07  \n",
      "5Y USD  6.552942e-07  0.000001  0.000001  0.000001  1.098794e-06  \n",
      "             fx_spot    EQV US   EQV EUR        1M EUR        1Y EUR  \\\n",
      "3Y EUR -3.944625e-07 -0.000003 -0.000002  2.276903e-08  4.133445e-07   \n",
      "5Y EUR -3.891030e-07 -0.000003 -0.000002  1.447478e-08  3.856932e-07   \n",
      "\n",
      "              3Y EUR        5Y EUR        7Y EUR       10Y EUR        1M USD  \\\n",
      "3Y EUR  6.676041e-07  6.707726e-07  6.463897e-07  6.112269e-07  5.002129e-08   \n",
      "5Y EUR  6.707726e-07  7.244874e-07  7.252112e-07  7.110014e-07  3.523433e-08   \n",
      "\n",
      "              1Y USD        3Y USD        5Y USD        7Y USD       10Y USD  \n",
      "3Y EUR  3.967291e-07  5.835875e-07  5.856884e-07  5.625449e-07  5.257843e-07  \n",
      "5Y EUR  3.797127e-07  6.114277e-07  6.537678e-07  6.532219e-07  6.269750e-07  \n",
      "fx_spot   -3.075541e-06\n",
      "EQV US     1.900508e-06\n",
      "EQV EUR    3.604614e-06\n",
      "1M EUR     1.560704e-08\n",
      "1Y EUR     3.331498e-07\n",
      "3Y EUR     5.846380e-07\n",
      "5Y EUR     6.325978e-07\n",
      "7Y EUR     6.503290e-07\n",
      "10Y EUR    6.591472e-07\n",
      "1M USD     1.177834e-07\n",
      "1Y USD     6.970764e-07\n",
      "3Y USD     1.086432e-06\n",
      "5Y USD     1.126029e-06\n",
      "7Y USD     1.098498e-06\n",
      "10Y USD    1.023366e-06\n",
      "dtype: float64\n",
      "fx_spot   -3.917827e-07\n",
      "EQV US    -3.091240e-06\n",
      "EQV EUR   -1.720957e-06\n",
      "1M EUR     1.862190e-08\n",
      "1Y EUR     3.995188e-07\n",
      "3Y EUR     6.691883e-07\n",
      "5Y EUR     6.976300e-07\n",
      "7Y EUR     6.858004e-07\n",
      "10Y EUR    6.611142e-07\n",
      "1M USD     4.262781e-08\n",
      "1Y USD     3.882209e-07\n",
      "3Y USD     5.975076e-07\n",
      "5Y USD     6.197281e-07\n",
      "7Y USD     6.078834e-07\n",
      "10Y USD    5.763796e-07\n",
      "dtype: float64\n",
      "          fx_spot    EQV US   EQV EUR    4Y USD    4Y EUR\n",
      "fx_spot  0.005865  0.001998 -0.000245 -0.000160 -0.000020\n",
      "EQV US   0.001998  0.022256  0.017473  0.000099 -0.000161\n",
      "EQV EUR -0.000245  0.017473  0.024203  0.000187 -0.000089\n",
      "4Y USD  -0.000160  0.000099  0.000187  0.000059  0.000032\n",
      "4Y EUR  -0.000020 -0.000161 -0.000089  0.000032  0.000036\n"
     ]
    }
   ],
   "execution_count": 20
  },
  {
   "cell_type": "markdown",
   "metadata": {},
   "source": [
    "# MEAN VECTOR FOR P1\n",
    "We can simply calculate the means of each variable in P1. This is done above and aggregated here:"
   ]
  },
  {
   "cell_type": "code",
   "execution_count": 116,
   "metadata": {},
   "outputs": [
    {
     "name": "stdout",
     "output_type": "stream",
     "text": [
      "[np.float64(1.0599535149056654), np.float64(1.084509954996659), np.float64(1.074764595705856), np.float64(0.8600539295169973), np.float64(0.9238276607539192)]\n"
     ]
    }
   ],
   "source": [
    "# Vector of means for P1\n",
    "\n",
    "mu_P1 = [mean_fx_1, mean_v_1_us_local, mean_v_1_eu, mean_Z1_4, EUR_mean_Z1_4]\n",
    "print(mu_P1)"
   ]
  },
  {
   "cell_type": "markdown",
   "metadata": {},
   "source": [
    "# LOGNORMAL AND BOND COVARIANCE MATRIX\n",
    "\n",
    "The variances and covariances of the yields have to be transformed into the variances and covariances of the bonds, while the variances and covariances for the first three variables (which are in logspace) have to be transformed into lognormal values.\n"
   ]
  },
  {
   "cell_type": "code",
   "execution_count": 117,
   "metadata": {},
   "outputs": [
    {
     "data": {
      "text/html": [
       "<div>\n",
       "<style scoped>\n",
       "    .dataframe tbody tr th:only-of-type {\n",
       "        vertical-align: middle;\n",
       "    }\n",
       "\n",
       "    .dataframe tbody tr th {\n",
       "        vertical-align: top;\n",
       "    }\n",
       "\n",
       "    .dataframe thead th {\n",
       "        text-align: right;\n",
       "    }\n",
       "</style>\n",
       "<table border=\"1\" class=\"dataframe\">\n",
       "  <thead>\n",
       "    <tr style=\"text-align: right;\">\n",
       "      <th></th>\n",
       "      <th>FX_1</th>\n",
       "      <th>V_US_LOCAL_1</th>\n",
       "      <th>V_EUR_1</th>\n",
       "      <th>Z_4Y_USD_LOCAL</th>\n",
       "      <th>Z_4Y_EUR</th>\n",
       "    </tr>\n",
       "  </thead>\n",
       "  <tbody>\n",
       "    <tr>\n",
       "      <th>FX_1</th>\n",
       "      <td>0.006589</td>\n",
       "      <td>0.002297</td>\n",
       "      <td>-0.000279</td>\n",
       "      <td>0.000583</td>\n",
       "      <td>0.000080</td>\n",
       "    </tr>\n",
       "    <tr>\n",
       "      <th>V_US_LOCAL_1</th>\n",
       "      <td>0.002297</td>\n",
       "      <td>0.026177</td>\n",
       "      <td>0.020366</td>\n",
       "      <td>-0.000369</td>\n",
       "      <td>0.000644</td>\n",
       "    </tr>\n",
       "    <tr>\n",
       "      <th>V_EUR_1</th>\n",
       "      <td>-0.000279</td>\n",
       "      <td>0.020366</td>\n",
       "      <td>0.027958</td>\n",
       "      <td>-0.000693</td>\n",
       "      <td>0.000355</td>\n",
       "    </tr>\n",
       "    <tr>\n",
       "      <th>Z_4Y_USD_LOCAL</th>\n",
       "      <td>0.000583</td>\n",
       "      <td>-0.000369</td>\n",
       "      <td>-0.000693</td>\n",
       "      <td>0.000695</td>\n",
       "      <td>0.000409</td>\n",
       "    </tr>\n",
       "    <tr>\n",
       "      <th>Z_4Y_EUR</th>\n",
       "      <td>0.000080</td>\n",
       "      <td>0.000644</td>\n",
       "      <td>0.000355</td>\n",
       "      <td>0.000409</td>\n",
       "      <td>0.000494</td>\n",
       "    </tr>\n",
       "  </tbody>\n",
       "</table>\n",
       "</div>"
      ],
      "text/plain": [
       "                    FX_1  V_US_LOCAL_1   V_EUR_1  Z_4Y_USD_LOCAL  Z_4Y_EUR\n",
       "FX_1            0.006589      0.002297 -0.000279        0.000583  0.000080\n",
       "V_US_LOCAL_1    0.002297      0.026177  0.020366       -0.000369  0.000644\n",
       "V_EUR_1        -0.000279      0.020366  0.027958       -0.000693  0.000355\n",
       "Z_4Y_USD_LOCAL  0.000583     -0.000369 -0.000693        0.000695  0.000409\n",
       "Z_4Y_EUR        0.000080      0.000644  0.000355        0.000409  0.000494"
      ]
     },
     "execution_count": 117,
     "metadata": {},
     "output_type": "execute_result"
    }
   ],
   "source": [
    "def convert_covariance(mu_log, cov_log, T=4):\n",
    "    \"\"\" \n",
    "    Full transformation of log-prices and yields to original prices and bond prices. \n",
    "    This function transforms the covariance matrix for the vector \n",
    "    [log(FX_1), log(V_US_LOCAL_1), log(V_EUR_1), y_4Y_USD, y_4Y_EUR] \n",
    "    to the covariance matrix for \n",
    "    [FX_1, V_US_LOCAL_1, V_EUR_1, Z_4Y_USD, Z_4Y_EUR].\n",
    "    \"\"\"\n",
    "    n = len(mu_log)\n",
    "    J = np.eye(n)\n",
    "    \n",
    "    # Step 1: Log-to-original for the first 3 variables\n",
    "    for i in range(3):  # The first 3 variables are log-transformed\n",
    "        J[i, i] = np.exp(mu_log[i] + 0.5 * cov_log[i, i])\n",
    "    \n",
    "    # Step 2: Yield-to-bond-price transformation for the last 2 variables\n",
    "    Z_USD = np.exp(-mu_log[3] * T)\n",
    "    Z_EUR = np.exp(-mu_log[4] * T)\n",
    "    J[3, 3] = -T * Z_USD\n",
    "    J[4, 4] = -T * Z_EUR\n",
    "    \n",
    "    # Step 3: Full transformation of the covariance matrix\n",
    "    cov_P1 = J @ cov_log @ J.T\n",
    "    return cov_P1\n",
    "\n",
    "# Example data\n",
    "mu_log = mu_log\n",
    "cov_log = filtered_cov_matrix_df.to_numpy()\n",
    "\n",
    "# Transform the covariance matrix for the vector [log(FX_1), log(V_US_LOCAL_1), log(V_EUR_1), y_4Y_USD, y_4Y_EUR]\n",
    "cov_P1 = convert_covariance(mu_log, cov_log)\n",
    "#print(\"Covariance matrix of P1:\\n\", cov_P1)\n",
    "\n",
    "columns = ['FX_1', 'V_US_LOCAL_1', 'V_EUR_1', 'Z_4Y_USD_LOCAL', 'Z_4Y_EUR']\n",
    "cov_P1_df = pd.DataFrame(cov_P1, index=columns, columns=columns)\n",
    "\n",
    "cov_P1_df.to_excel('transformed_filtered_cov_mat.xlsx')\n",
    "\n",
    "cov_P1_df\n"
   ]
  },
  {
   "cell_type": "code",
   "execution_count": 118,
   "metadata": {},
   "outputs": [
    {
     "data": {
      "text/plain": [
       "(np.True_, array([0.04752207, 0.00851287, 0.00478126, 0.00096507, 0.00013107]))"
      ]
     },
     "execution_count": 118,
     "metadata": {},
     "output_type": "execute_result"
    }
   ],
   "source": [
    "# Check if the covariance matrix is positive semi-definite\n",
    "eigenvalues = np.linalg.eigvals(cov_P1_df.values)\n",
    "\n",
    "# Check if all eigenvalues are non-negative (this is the condition for positive semi-definiteness)\n",
    "is_positive_semi_definite = np.all(eigenvalues >= 0)\n",
    "\n",
    "# Display the results\n",
    "is_positive_semi_definite, eigenvalues\n",
    "# (np.True_, array([0.04752207, 0.00851287, 0.00478126, 0.00096507, 0.00013107]))"
   ]
  },
  {
   "cell_type": "markdown",
   "metadata": {},
   "source": [
    "The covariance matrix is SPD after transforming it.\n",
    "\n",
    "The distribution of the P1 vector is therefore determined to be"
   ]
  },
  {
   "cell_type": "code",
   "execution_count": 119,
   "metadata": {},
   "outputs": [
    {
     "name": "stdout",
     "output_type": "stream",
     "text": [
      "mu_P1: [np.float64(1.0599535149056654), np.float64(1.084509954996659), np.float64(1.074764595705856), np.float64(0.8600539295169973), np.float64(0.9238276607539192)]\n"
     ]
    }
   ],
   "source": [
    "# vector of means\n",
    "mu_P1\n",
    "\n",
    "# covariance matrix\n",
    "cov_P1_df\n",
    "\n",
    "print(f\"mu_P1: {mu_P1}\")"
   ]
  },
  {
   "cell_type": "markdown",
   "metadata": {},
   "source": [
    "This covariance matrix should be the covariance matrix for P1"
   ]
  },
  {
   "cell_type": "markdown",
   "metadata": {},
   "source": [
    "# Distribution of P1 EUR vector."
   ]
  },
  {
   "cell_type": "markdown",
   "metadata": {},
   "source": [
    "I also want the covariance matrix and means for the P1 EUR vector. I believe we can do a similar transformation but with the exchange rate for the variables FX_1, V_US_LOCAL_1 and Z_4Y_USD_LOCAL. "
   ]
  },
  {
   "cell_type": "code",
   "execution_count": 120,
   "metadata": {},
   "outputs": [
    {
     "data": {
      "text/html": [
       "<div>\n",
       "<style scoped>\n",
       "    .dataframe tbody tr th:only-of-type {\n",
       "        vertical-align: middle;\n",
       "    }\n",
       "\n",
       "    .dataframe tbody tr th {\n",
       "        vertical-align: top;\n",
       "    }\n",
       "\n",
       "    .dataframe thead th {\n",
       "        text-align: right;\n",
       "    }\n",
       "</style>\n",
       "<table border=\"1\" class=\"dataframe\">\n",
       "  <thead>\n",
       "    <tr style=\"text-align: right;\">\n",
       "      <th></th>\n",
       "      <th>1/FX_1</th>\n",
       "      <th>V_USD_1</th>\n",
       "      <th>V_EUR_1</th>\n",
       "      <th>Z_4Y_USD</th>\n",
       "      <th>Z_4Y_EUR</th>\n",
       "    </tr>\n",
       "  </thead>\n",
       "  <tbody>\n",
       "    <tr>\n",
       "      <th>1/FX_1</th>\n",
       "      <td>0.005220</td>\n",
       "      <td>0.003732</td>\n",
       "      <td>0.000248</td>\n",
       "      <td>0.004000</td>\n",
       "      <td>-0.000071</td>\n",
       "    </tr>\n",
       "    <tr>\n",
       "      <th>V_USD_1</th>\n",
       "      <td>0.003732</td>\n",
       "      <td>0.025256</td>\n",
       "      <td>0.019484</td>\n",
       "      <td>0.002351</td>\n",
       "      <td>0.000531</td>\n",
       "    </tr>\n",
       "    <tr>\n",
       "      <th>V_EUR_1</th>\n",
       "      <td>0.000248</td>\n",
       "      <td>0.019484</td>\n",
       "      <td>0.027958</td>\n",
       "      <td>-0.000440</td>\n",
       "      <td>0.000355</td>\n",
       "    </tr>\n",
       "    <tr>\n",
       "      <th>Z_4Y_USD</th>\n",
       "      <td>0.004000</td>\n",
       "      <td>0.002351</td>\n",
       "      <td>-0.000440</td>\n",
       "      <td>0.003637</td>\n",
       "      <td>0.000324</td>\n",
       "    </tr>\n",
       "    <tr>\n",
       "      <th>Z_4Y_EUR</th>\n",
       "      <td>-0.000071</td>\n",
       "      <td>0.000531</td>\n",
       "      <td>0.000355</td>\n",
       "      <td>0.000324</td>\n",
       "      <td>0.000494</td>\n",
       "    </tr>\n",
       "  </tbody>\n",
       "</table>\n",
       "</div>"
      ],
      "text/plain": [
       "            1/FX_1   V_USD_1   V_EUR_1  Z_4Y_USD  Z_4Y_EUR\n",
       "1/FX_1    0.005220  0.003732  0.000248  0.004000 -0.000071\n",
       "V_USD_1   0.003732  0.025256  0.019484  0.002351  0.000531\n",
       "V_EUR_1   0.000248  0.019484  0.027958 -0.000440  0.000355\n",
       "Z_4Y_USD  0.004000  0.002351 -0.000440  0.003637  0.000324\n",
       "Z_4Y_EUR -0.000071  0.000531  0.000355  0.000324  0.000494"
      ]
     },
     "execution_count": 120,
     "metadata": {},
     "output_type": "execute_result"
    }
   ],
   "source": [
    "import numpy as np\n",
    "\n",
    "def convert_covariance_to_EUR(mu_p1, cov_p1):\n",
    "    \"\"\" \n",
    "    Convert the covariance matrix from USD to EUR. \n",
    "    \"\"\"\n",
    "    FX_1 = mu_p1[0]\n",
    "    V_US_LOCAL_1 = mu_p1[1]\n",
    "    Z_4Y_USD = mu_p1[3]\n",
    "    \n",
    "    n = len(mu_p1)\n",
    "    J = np.eye(n)\n",
    "    \n",
    "    # 1. FX_1 -> 1 / FX_1\n",
    "    J[0, 0] = -1 / (FX_1 ** 2)\n",
    "    \n",
    "    # 2. V_US_LOCAL_1 -> V_US_LOCAL_1 / FX_1\n",
    "    J[1, 0] = -V_US_LOCAL_1 / (FX_1 ** 2)  # Partial wrt FX_1\n",
    "    J[1, 1] = 1 / FX_1  # Partial wrt V_US_LOCAL_1\n",
    "    \n",
    "    # 3. Z_4Y_USD -> Z_4Y_USD / FX_1\n",
    "    J[3, 0] = -Z_4Y_USD / (FX_1 ** 2)  # Partial wrt FX_1\n",
    "    J[3, 3] = 1 / FX_1  # Partial wrt Z_4Y_USD\n",
    "    \n",
    "    # Full transformation of the covariance matrix\n",
    "    cov_P1_EUR = J @ cov_p1 @ J.T\n",
    "        \n",
    "    return cov_P1_EUR\n",
    "\n",
    "cov_P1 = cov_P1\n",
    "\n",
    "cov_P1_eur = convert_covariance_to_EUR(mu_P1, cov_P1)\n",
    "\n",
    "columns_EUR = ['1/FX_1', 'V_USD_1', 'V_EUR_1', 'Z_4Y_USD', 'Z_4Y_EUR']\n",
    "cov_P1_eur_df = pd.DataFrame(cov_P1_eur, index=columns_EUR, columns=columns_EUR)\n",
    "\n",
    "cov_P1_eur_df"
   ]
  },
  {
   "cell_type": "code",
   "execution_count": 121,
   "metadata": {},
   "outputs": [
    {
     "data": {
      "text/plain": [
       "(np.True_,\n",
       " array([4.63847861e-02, 1.09857577e-02, 4.37453080e-03, 9.50216808e-05,\n",
       "        7.24961930e-04]))"
      ]
     },
     "execution_count": 121,
     "metadata": {},
     "output_type": "execute_result"
    }
   ],
   "source": [
    "# Check if the covariance matrix is positive semi-definite\n",
    "eigenvalues = np.linalg.eigvals(cov_P1_eur_df.values)\n",
    "\n",
    "# Check if all eigenvalues are non-negative (this is the condition for positive semi-definiteness)\n",
    "is_positive_semi_definite = np.all(eigenvalues >= 0)\n",
    "\n",
    "# Display the results\n",
    "is_positive_semi_definite, eigenvalues"
   ]
  },
  {
   "cell_type": "markdown",
   "metadata": {},
   "source": [
    "The covariance matrix for P1 EUR is SPD.\n",
    "\n",
    "We do the mean vector as well. Not sure on this step."
   ]
  },
  {
   "cell_type": "code",
   "execution_count": 122,
   "metadata": {},
   "outputs": [
    {
     "name": "stdout",
     "output_type": "stream",
     "text": [
      "Mean vector for P1 (EUR): [0.9434376  1.02316747 1.0747646  0.81140721 0.92382766]\n"
     ]
    }
   ],
   "source": [
    "import numpy as np\n",
    "\n",
    "def convert_means_to_eur(mu_p1):\n",
    "    \"\"\" \n",
    "    Convert the mean vector for P1 (USD) to P1 (EUR).\n",
    "    \"\"\"\n",
    "    # Extract individual means from the P1 vector\n",
    "    fx_mean = mu_p1[0]             # FX mean\n",
    "    v_us_mean = mu_p1[1]           # USD stock mean\n",
    "    v_eur_mean = mu_p1[2]          # EUR stock mean (unchanged)\n",
    "    z_usd_4y_mean = mu_p1[3]       # USD bond mean\n",
    "    z_eur_4y_mean = mu_p1[4]       # EUR bond mean (unchanged)\n",
    "    \n",
    "    # Convert each component\n",
    "    mu_1 = 1 / fx_mean               # 1 / FX_1\n",
    "    mu_2 = v_us_mean / fx_mean       # V_US_LOCAL / FX_1\n",
    "    mu_3 = v_eur_mean                # V_EUR (unchanged)\n",
    "    mu_4 = z_usd_4y_mean / fx_mean   # Z_4Y_USD / FX_1\n",
    "    mu_5 = z_eur_4y_mean             # Z_4Y_EUR (unchanged)\n",
    "    \n",
    "    # Construct the P1 EUR mean vector\n",
    "    mu_p1_eur = np.array([mu_1, mu_2, mu_3, mu_4, mu_5])\n",
    "    return mu_p1_eur\n",
    "\n",
    "# Example P1 mean vector (for USD)\n",
    "mu_p1 = mu_P1  # FX, V_US_LOCAL, V_EUR, Z_4Y_USD, Z_4Y_EUR\n",
    "\n",
    "# Convert the means to EUR\n",
    "mu_P1_eur = convert_means_to_eur(mu_p1)\n",
    "print(\"Mean vector for P1 (EUR):\", mu_p1_eur)\n",
    "\n"
   ]
  },
  {
   "cell_type": "markdown",
   "metadata": {},
   "source": [
    "The distribution of P1 EUR is therefore determined to be:"
   ]
  },
  {
   "cell_type": "code",
   "execution_count": 124,
   "metadata": {},
   "outputs": [
    {
     "data": {
      "text/plain": [
       "array([0.00521987, 0.02525607, 0.02795771, 0.00363745, 0.00049396])"
      ]
     },
     "execution_count": 124,
     "metadata": {},
     "output_type": "execute_result"
    }
   ],
   "source": [
    "# Vector of means\n",
    "mu_P1_eur\n",
    "\n",
    "# Covariance matrix\n",
    "cov_P1_eur_df\n",
    "\n",
    "\n",
    "# The variance of each variable is \n",
    "var_P1_eur = np.diag(cov_P1_eur)\n",
    "var_P1_eur"
   ]
  },
  {
   "cell_type": "code",
   "execution_count": 125,
   "metadata": {},
   "outputs": [
    {
     "name": "stdout",
     "output_type": "stream",
     "text": [
      "   Variable      Mean\n",
      "0  FX_1_EUR  0.943438\n",
      "1   V_USD_1  1.023167\n",
      "2   V_EUR_1  1.074765\n",
      "3  Z_4Y_USD  0.811407\n",
      "4  Z_4Y_EUR  0.923828\n",
      "   Variable  variance\n",
      "0  FX_1_EUR  0.005220\n",
      "1   V_USD_1  0.025256\n",
      "2   V_EUR_1  0.027958\n",
      "3  Z_4Y_USD  0.003637\n",
      "4  Z_4Y_EUR  0.000494\n"
     ]
    }
   ],
   "source": [
    "# turn mu_P1_eur into a dataframe to export it\n",
    "columns = ['FX_1_EUR', 'V_USD_1', 'V_EUR_1', 'Z_4Y_USD', 'Z_4Y_EUR']\n",
    "mu_P1_eur_df = pd.DataFrame({'Variable': columns, 'Mean': mu_P1_eur})\n",
    "\n",
    "# Print to check\n",
    "print(mu_P1_eur_df)\n",
    "\n",
    "# turn var_P1_eur into a dataframe to export it\n",
    "var_P1_eur_df = pd.DataFrame({'Variable': columns, 'variance': var_P1_eur})\n",
    "print(var_P1_eur_df)"
   ]
  },
  {
   "cell_type": "code",
   "execution_count": 126,
   "metadata": {},
   "outputs": [],
   "source": [
    "# Export the mean and variance vector of P1 EUR to be used in PnL vector.ipynb\n",
    "mu_P1_eur_df.to_excel(\"mu_P1_eur_vector.xlsx\")\n",
    "\n",
    "var_P1_eur_df.to_excel(\"var_P1_eur_vector.xlsx\")\n",
    "\n"
   ]
  },
  {
   "cell_type": "markdown",
   "metadata": {},
   "source": [
    "# LOGNORMAL COVARIANCE MATRIX TEACHER'S FUNCTION (OUR OF ORDER, NOT RELEVANT, WRONG, DO NOT ENTER)"
   ]
  },
  {
   "cell_type": "code",
   "execution_count": null,
   "metadata": {},
   "outputs": [],
   "source": [
    "def calculate_log_norm_mean(mu: np.ndarray, covariance: np.ndarray) -> np.ndarray:\n",
    "    \"\"\"\n",
    "    Function that calculates the expected value of X,\n",
    "    when :math:`\\\\log(X)` is multivariate normal\n",
    "\n",
    "    Parameters\n",
    "    ----------\n",
    "    mu:\n",
    "        Vector of expected values of log X\n",
    "    covariance:\n",
    "        Covariance matrix of log X+\n",
    "\n",
    "    Returns\n",
    "    -------\n",
    "    float\n",
    "        Expected value of X\n",
    "    \"\"\"\n",
    "\n",
    "    return np.exp(mu + 0.5 * np.diag(covariance))\n",
    "\n",
    "\n",
    "def calculate_log_norm_cov_mat(mu: np.ndarray, covariance: np.ndarray) -> np.ndarray:\n",
    "    \"\"\"\n",
    "    Function that calculates the covariance matrix of X,\n",
    "    when :math:`\\\\log(X)` is multivariate normal\n",
    "\n",
    "    Parameters\n",
    "    ----------\n",
    "    mu:\n",
    "        Vector of expected values of log X\n",
    "    covariance:\n",
    "        Covariance matrix of log X\n",
    "\n",
    "    Returns\n",
    "    -------\n",
    "    float\n",
    "        Covariance matrix of X\n",
    "    \"\"\"\n",
    "\n",
    "    mu_l = calculate_log_norm_mean(mu, covariance)\n",
    "\n",
    "    return np.outer(mu_l, mu_l) * (np.exp(covariance) - 1)\n"
   ]
  },
  {
   "cell_type": "code",
   "execution_count": 78,
   "metadata": {},
   "outputs": [
    {
     "name": "stdout",
     "output_type": "stream",
     "text": [
      "          fx_spot    EQV US   EQV EUR    4Y USD    4Y EUR\n",
      "fx_spot  0.006608  0.002299 -0.000279 -0.000146 -0.000020\n",
      "EQV US   0.002299  0.026471  0.020545  0.000092 -0.000161\n",
      "EQV EUR -0.000279  0.020545  0.028299  0.000173 -0.000089\n",
      "4Y USD  -0.000146  0.000092  0.000173  0.000043  0.000026\n",
      "4Y EUR  -0.000020 -0.000161 -0.000089  0.000026  0.000031\n"
     ]
    }
   ],
   "source": [
    "log_means = [mean_logfx_1, mean_log_v_1_us_local, mean_log_v_1_eu, -mean_y1_4 * 4, 4 * -EUR_mean_y1_4]\n",
    "lg_norm_cov_mat = calculate_log_norm_cov_mat(mu=log_means, covariance=filtered_cov_matrix_df)\n",
    "\n",
    "print(lg_norm_cov_mat)"
   ]
  },
  {
   "cell_type": "code",
   "execution_count": 89,
   "metadata": {},
   "outputs": [
    {
     "data": {
      "text/plain": [
       "(np.True_, array([0.04752207, 0.00851287, 0.00478126, 0.00096507, 0.00013107]))"
      ]
     },
     "execution_count": 89,
     "metadata": {},
     "output_type": "execute_result"
    }
   ],
   "source": [
    "# Check if the covariance matrix is positive semi-definite\n",
    "eigenvalues = np.linalg.eigvals(cov_P1_df.values)\n",
    "\n",
    "# Check if all eigenvalues are non-negative (this is the condition for positive semi-definiteness)\n",
    "is_positive_semi_definite = np.all(eigenvalues >= 0)\n",
    "\n",
    "# Display the results\n",
    "is_positive_semi_definite, eigenvalues"
   ]
  },
  {
   "cell_type": "code",
   "execution_count": 37,
   "metadata": {},
   "outputs": [
    {
     "data": {
      "text/plain": [
       "(np.True_,\n",
       " array([4.07725132e-02, 7.40004152e-03, 4.15885870e-03, 7.76455078e-05,\n",
       "        1.01952161e-05]))"
      ]
     },
     "execution_count": 37,
     "metadata": {},
     "output_type": "execute_result"
    }
   ],
   "source": [
    "# Check if the covariance matrix is positive semi-definite\n",
    "eigenvalues = np.linalg.eigvals(filtered_cov_matrix_df.values)\n",
    "\n",
    "# Check if all eigenvalues are non-negative (this is the condition for positive semi-definiteness)\n",
    "is_positive_semi_definite = np.all(eigenvalues >= 0)\n",
    "\n",
    "# Display the results\n",
    "is_positive_semi_definite, eigenvalues"
   ]
  },
  {
   "cell_type": "markdown",
   "metadata": {},
   "source": [
    "The eigenvalues for the covariance matrix containing the interpolated 4-year USD and EUR yields is positive semi-definite.\n",
    "\n",
    "If there is a problem with the final lognormal covariance matrix, then there must be a mistake in the transformation."
   ]
  },
  {
   "cell_type": "code",
   "execution_count": 38,
   "metadata": {},
   "outputs": [
    {
     "data": {
      "text/plain": [
       "(np.True_,\n",
       " array([2.12017069e+00, 3.84802159e-01, 2.16260652e-01, 4.03756641e-03,\n",
       "        5.30151237e-04]))"
      ]
     },
     "execution_count": 38,
     "metadata": {},
     "output_type": "execute_result"
    }
   ],
   "source": [
    "# Testing the 52 weeks into the future covariance matrix:\n",
    "\n",
    "future_cov_mat = filtered_cov_matrix_df * 52\n",
    "\n",
    "# Check if the covariance matrix is positive semi-definite\n",
    "eigenvalues = np.linalg.eigvals(future_cov_mat.values)\n",
    "\n",
    "# Check if all eigenvalues are non-negative (this is the condition for positive semi-definiteness)\n",
    "is_positive_semi_definite = np.all(eigenvalues >= 0)\n",
    "\n",
    "# Display the results\n",
    "is_positive_semi_definite, eigenvalues"
   ]
  },
  {
   "cell_type": "markdown",
   "metadata": {},
   "source": [
    "The eigenvalues for the interpolated covariance matrix brought into 52 weeks into the future is also semi positive definite. There must be a mistake in the transformation."
   ]
  },
  {
   "cell_type": "code",
   "execution_count": 39,
   "metadata": {},
   "outputs": [],
   "source": [
    "# To describe the distribution of the multivariate lognormal vector P1,\n",
    "# we need a vector of lognormal means, and a lognormal covariance matrix\n",
    "# The covariance matrix that needs to be transformed has been extracted \n",
    "# from the given covariance matrix. Furthermore, the variances and covariances\n",
    "# for the 4Y USD and 4Y EUR need to be transformed into the covariance and variance\n",
    "# for the bonds. "
   ]
  },
  {
   "cell_type": "code",
   "execution_count": 40,
   "metadata": {},
   "outputs": [
    {
     "data": {
      "text/html": [
       "<div>\n",
       "<style scoped>\n",
       "    .dataframe tbody tr th:only-of-type {\n",
       "        vertical-align: middle;\n",
       "    }\n",
       "\n",
       "    .dataframe tbody tr th {\n",
       "        vertical-align: top;\n",
       "    }\n",
       "\n",
       "    .dataframe thead th {\n",
       "        text-align: right;\n",
       "    }\n",
       "</style>\n",
       "<table border=\"1\" class=\"dataframe\">\n",
       "  <thead>\n",
       "    <tr style=\"text-align: right;\">\n",
       "      <th></th>\n",
       "      <th>fx_spot</th>\n",
       "      <th>EQV US</th>\n",
       "      <th>EQV EUR</th>\n",
       "      <th>Bond 4Y USD</th>\n",
       "      <th>Bond 4Y EUR</th>\n",
       "    </tr>\n",
       "  </thead>\n",
       "  <tbody>\n",
       "    <tr>\n",
       "      <th>fx_spot</th>\n",
       "      <td>0.540264</td>\n",
       "      <td>0.257792</td>\n",
       "      <td>-0.031034</td>\n",
       "      <td>-0.010210</td>\n",
       "      <td>-0.001305</td>\n",
       "    </tr>\n",
       "    <tr>\n",
       "      <th>EQV US</th>\n",
       "      <td>0.257792</td>\n",
       "      <td>7.983079</td>\n",
       "      <td>5.643730</td>\n",
       "      <td>0.009871</td>\n",
       "      <td>-0.015938</td>\n",
       "    </tr>\n",
       "    <tr>\n",
       "      <th>EQV EUR</th>\n",
       "      <td>-0.031034</td>\n",
       "      <td>5.643730</td>\n",
       "      <td>10.004017</td>\n",
       "      <td>0.019543</td>\n",
       "      <td>-0.009258</td>\n",
       "    </tr>\n",
       "    <tr>\n",
       "      <th>Bond 4Y USD</th>\n",
       "      <td>-0.010210</td>\n",
       "      <td>0.009871</td>\n",
       "      <td>0.019543</td>\n",
       "      <td>0.003069</td>\n",
       "      <td>0.001678</td>\n",
       "    </tr>\n",
       "    <tr>\n",
       "      <th>Bond 4Y EUR</th>\n",
       "      <td>-0.001305</td>\n",
       "      <td>-0.015938</td>\n",
       "      <td>-0.009258</td>\n",
       "      <td>0.001678</td>\n",
       "      <td>0.001887</td>\n",
       "    </tr>\n",
       "  </tbody>\n",
       "</table>\n",
       "</div>"
      ],
      "text/plain": [
       "              fx_spot    EQV US    EQV EUR  Bond 4Y USD  Bond 4Y EUR\n",
       "fx_spot      0.540264  0.257792  -0.031034    -0.010210    -0.001305\n",
       "EQV US       0.257792  7.983079   5.643730     0.009871    -0.015938\n",
       "EQV EUR     -0.031034  5.643730  10.004017     0.019543    -0.009258\n",
       "Bond 4Y USD -0.010210  0.009871   0.019543     0.003069     0.001678\n",
       "Bond 4Y EUR -0.001305 -0.015938  -0.009258     0.001678     0.001887"
      ]
     },
     "execution_count": 40,
     "metadata": {},
     "output_type": "execute_result"
    }
   ],
   "source": [
    "# Re-import necessary libraries\n",
    "import pandas as pd\n",
    "import numpy as np\n",
    "\n",
    "# Reload the updated covariance matrix from the uploaded file\n",
    "file_path = 'filtered_covariance_matrix.xlsx'\n",
    "cov_matrix_df = pd.read_excel(file_path, index_col=0)\n",
    "\n",
    "# Step 1: Transform weekly covariance matrix into a 1-year covariance matrix for all variables\n",
    "cov_matrix_1y = 52 * cov_matrix_df\n",
    "\n",
    "# Step 2: Provide the means for the normal versions (log-transformed) of the log-normal variables\n",
    "mean_log_vars = {\n",
    "    '4Y USD': mean_y1_4,  # mean of log(4Y USD)\n",
    "    '4Y EUR': EUR_mean_y1_4,  # mean of log(4Y EUR)\n",
    "    'fx_spot': mean_logfx_1,     # mean of log(FX spot), can be updated with actual values\n",
    "    'EQV US': mean_log_v_1_us_local,      # mean of log(EQV US), can be updated with actual values\n",
    "    'EQV EUR': mean_log_v_1_eu      # mean of log(EQV EUR), can be updated with actual values\n",
    "}\n",
    "\n",
    "# Identify which variables are yields and their time to maturity\n",
    "yield_labels = ['4Y USD', '4Y EUR']  # Define which variables are yields\n",
    "time_to_maturity = {'4Y USD': 4, '4Y EUR': 4}  # Maturity for each yield variable\n",
    "\n",
    "# Step 3: Transform all variances and covariances using the correct log-normal transformations\n",
    "lognormal_cov_matrix = np.zeros_like(cov_matrix_1y.values)\n",
    "\n",
    "for i, row_label in enumerate(cov_matrix_1y.index):\n",
    "    for j, col_label in enumerate(cov_matrix_1y.columns):\n",
    "        var_or_cov = cov_matrix_1y.loc[row_label, col_label]\n",
    "\n",
    "        if row_label == col_label:  # Variance case\n",
    "            if row_label in yield_labels:  # Special case for yield variances\n",
    "                var_y = var_or_cov  # Variance of the yield\n",
    "                mu_y = mean_log_vars.get(row_label, 0)  # Mean of the yield\n",
    "                t_val = time_to_maturity.get(row_label, 1)  # Time to maturity\n",
    "                lognormal_cov_matrix[i, j] = (np.exp(var_y * t_val**2) - 1) * np.exp(-2 * mu_y * t_val + var_y * t_val**2) # bond variance calculation\n",
    "            else:  # Standard log-normal transformation\n",
    "                var_log_x = var_or_cov  # Variance of log(X)\n",
    "                mean_log_x = mean_log_vars.get(row_label, 0)  # Mean of log(X)\n",
    "                lognormal_cov_matrix[i, j] = (np.exp(var_log_x) - 1) * np.exp(2 * mean_log_x + var_log_x)\n",
    "                \n",
    "        else:  # Covariance case\n",
    "            if row_label in yield_labels and col_label in yield_labels:  # Special case for yield covariances\n",
    "                cov_y = var_or_cov  # Covariance between yields\n",
    "                mu_y_i = mean_log_vars.get(row_label, 0)  # Mean of log(first yield)\n",
    "                mu_y_j = mean_log_vars.get(col_label, 0)  # Mean of log(second yield)\n",
    "                t_i = time_to_maturity.get(row_label, 1)  # Maturity of first yield\n",
    "                t_j = time_to_maturity.get(col_label, 1)  # Maturity of second yield\n",
    "                lognormal_cov_matrix[i, j] = np.exp(cov_y * t_i * t_j) - np.exp(mu_y_i * t_i + mu_y_j * t_j) # bond covariance calculation\n",
    "            else:  # Standard log-normal transformation for non-yield variables\n",
    "                var_x = cov_matrix_1y.loc[row_label, row_label]\n",
    "                var_y = cov_matrix_1y.loc[col_label, col_label]\n",
    "                cov_log_x_y = var_or_cov  # Covariance of log(X) and log(Y)\n",
    "                mu_log_x = mean_log_vars.get(row_label, 0)  # Mean of log(X)\n",
    "                mu_log_y = mean_log_vars.get(col_label, 0)  # Mean of log(Y)\n",
    "                lognormal_cov_matrix[i, j] = np.exp(cov_log_x_y + mu_log_x + mu_log_y + 0.5 * (var_x + var_y)) - np.exp(mu_log_x + 0.5 * var_x) * np.exp(mu_log_y + 0.5 * var_y)\n",
    "\n",
    "# Rename yield labels to bond price labels\n",
    "renamed_labels = {'4Y USD': 'Bond 4Y USD', '4Y EUR': 'Bond 4Y EUR'}\n",
    "updated_index = [renamed_labels.get(label, label) for label in cov_matrix_1y.index]\n",
    "updated_columns = [renamed_labels.get(label, label) for label in cov_matrix_1y.columns]\n",
    "\n",
    "# Create a DataFrame to display the final covariance matrix with the renamed labels\n",
    "final_cov_matrix_df = pd.DataFrame(lognormal_cov_matrix, index=updated_index, columns=updated_columns)\n",
    "\n",
    "# Display the final covariance matrix\n",
    "final_cov_matrix_df\n"
   ]
  },
  {
   "cell_type": "code",
   "execution_count": null,
   "metadata": {},
   "outputs": [],
   "source": []
  },
  {
   "cell_type": "code",
   "execution_count": 16,
   "metadata": {},
   "outputs": [],
   "source": []
  },
  {
   "cell_type": "code",
   "execution_count": 41,
   "metadata": {},
   "outputs": [
    {
     "data": {
      "text/plain": [
       "(np.True_,\n",
       " array([4.79981636e-02, 8.55064779e-03, 4.83417503e-03, 6.06950939e-05,\n",
       "        8.25020836e-06]))"
      ]
     },
     "execution_count": 41,
     "metadata": {},
     "output_type": "execute_result"
    }
   ],
   "source": [
    "# Check if the covariance matrix is positive semi-definite\n",
    "eigenvalues = np.linalg.eigvals(lg_norm_cov_mat.values)\n",
    "\n",
    "# Check if all eigenvalues are non-negative (this is the condition for positive semi-definiteness)\n",
    "is_positive_semi_definite = np.all(eigenvalues >= 0)\n",
    "\n",
    "# Display the results\n",
    "is_positive_semi_definite, eigenvalues\n"
   ]
  },
  {
   "cell_type": "code",
   "execution_count": 42,
   "metadata": {},
   "outputs": [
    {
     "name": "stdout",
     "output_type": "stream",
     "text": [
      "          fx_spot    EQV US   EQV EUR    4Y USD    4Y EUR\n",
      "fx_spot  0.006608  0.002299 -0.000279 -0.000146 -0.000020\n",
      "EQV US   0.002299  0.026471  0.020545  0.000092 -0.000161\n",
      "EQV EUR -0.000279  0.020545  0.028299  0.000173 -0.000089\n",
      "4Y USD  -0.000146  0.000092  0.000173  0.000043  0.000026\n",
      "4Y EUR  -0.000020 -0.000161 -0.000089  0.000026  0.000031\n",
      "-3.6317175916151916\n"
     ]
    }
   ],
   "source": [
    "print(lg_norm_cov_mat)\n",
    "print(np.log(lg_norm_cov_mat.iloc[1, 1]))"
   ]
  },
  {
   "cell_type": "code",
   "execution_count": 43,
   "metadata": {},
   "outputs": [
    {
     "data": {
      "text/plain": [
       "(np.True_, array([ 0.52155902,  3.27736338, 14.72843776]))"
      ]
     },
     "execution_count": 43,
     "metadata": {},
     "output_type": "execute_result"
    }
   ],
   "source": [
    "# Remove the variables 'Bond 4Y USD' and 'Bond 4Y EUR' from the covariance matrix\n",
    "variables_to_remove = ['Bond 4Y USD', 'Bond 4Y EUR']\n",
    "\n",
    "# Filter the covariance matrix by excluding the problematic variables\n",
    "filtered_cov_matrix_df = final_cov_matrix_df.drop(index=variables_to_remove, columns=variables_to_remove)\n",
    "\n",
    "# Check if the filtered covariance matrix is positive semi-definite\n",
    "eigenvalues = np.linalg.eigvals(filtered_cov_matrix_df.values)\n",
    "\n",
    "# Check if all eigenvalues are non-negative (condition for positive semi-definiteness)\n",
    "is_positive_semi_definite = np.all(eigenvalues >= 0)\n",
    "\n",
    "# Display the results\n",
    "is_positive_semi_definite, eigenvalues\n"
   ]
  },
  {
   "cell_type": "markdown",
   "metadata": {},
   "source": [
    "# Trash:"
   ]
  },
  {
   "cell_type": "code",
   "execution_count": null,
   "metadata": {},
   "outputs": [],
   "source": [
    "# Step 1: Load the covariance matrix from the uploaded Excel file\n",
    "file_path = 'covariance_matrix.xlsx'\n",
    "cov_matrix_df = pd.read_excel(file_path, index_col=0)\n",
    "\n",
    "# Step 2: Extract relevant rows and columns for interpolation\n",
    "usd_3y_5y = cov_matrix_df.loc[['3Y USD', '5Y USD']]\n",
    "eur_3y_5y = cov_matrix_df.loc[['3Y EUR', '5Y EUR']]\n",
    "\n",
    "# Step 3: Interpolate the entire row and column for 4Y USD and 4Y EUR with respect to all variables\n",
    "interpolated_4y_usd = usd_3y_5y.loc['3Y USD'] + (usd_3y_5y.loc['5Y USD'] - usd_3y_5y.loc['3Y USD']) * (4 - 3) / (5 - 3)\n",
    "interpolated_4y_eur = eur_3y_5y.loc['3Y EUR'] + (eur_3y_5y.loc['5Y EUR'] - eur_3y_5y.loc['3Y EUR']) * (4 - 3) / (5 - 3)\n",
    "\n",
    "# Step 4: Insert the interpolated 4Y USD and 4Y EUR rows into the covariance matrix\n",
    "cov_matrix_df.loc['4Y USD'] = interpolated_4y_usd\n",
    "cov_matrix_df.loc['4Y EUR'] = interpolated_4y_eur\n",
    "\n",
    "# Step 5: Insert the interpolated 4Y USD and 4Y EUR columns into the covariance matrix\n",
    "cov_matrix_df['4Y USD'] = interpolated_4y_usd\n",
    "cov_matrix_df['4Y EUR'] = interpolated_4y_eur\n",
    "\n",
    "# Step 6: Interpolate the diagonal variances for 4Y USD and 4Y EUR\n",
    "cov_matrix_df.loc['4Y USD', '4Y USD'] = usd_3y_5y.loc['3Y USD', '3Y USD'] + (usd_3y_5y.loc['5Y USD', '5Y USD'] - usd_3y_5y.loc['3Y USD', '3Y USD']) * (4 - 3) / (5 - 3)\n",
    "cov_matrix_df.loc['4Y EUR', '4Y EUR'] = eur_3y_5y.loc['3Y EUR', '3Y EUR'] + (eur_3y_5y.loc['5Y EUR', '5Y EUR'] - eur_3y_5y.loc['3Y EUR', '3Y EUR']) * (4 - 3) / (5 - 3)\n",
    "\n",
    "# Step 7: Interpolate the cross-covariance between 4Y USD and 4Y EUR\n",
    "cov_4y_usd_4y_eur = cov_matrix_df.loc['3Y USD', '3Y EUR'] + (cov_matrix_df.loc['5Y USD', '5Y EUR'] - cov_matrix_df.loc['3Y USD', '3Y EUR']) * (4 - 3) / (5 - 3)\n",
    "cov_matrix_df.loc['4Y USD', '4Y EUR'] = cov_4y_usd_4y_eur\n",
    "cov_matrix_df.loc['4Y EUR', '4Y USD'] = cov_4y_usd_4y_eur\n",
    "\n",
    "# Step 8: Filter the covariance matrix to only keep the required variables\n",
    "required_variables = ['fx_spot', 'EQV US', 'EQV EUR', '4Y USD', '4Y EUR']\n",
    "filtered_cov_matrix_df = cov_matrix_df.loc[required_variables, required_variables]\n",
    "\n",
    "# Step 9: Apply the time scaling (weekly to annual)\n",
    "filtered_cov_matrix_df *= 52\n",
    "\n",
    "# Step 10: Apply the (T-t)^2 transformation for the variances and (T-t)*(S-t) for the covariances\n",
    "T_minus_t_usd = 4  # For 4Y USD bond\n",
    "T_minus_t_eur = 4  # For 4Y EUR bond\n",
    "\n",
    "log_z1_4_cov_matrix_df = filtered_cov_matrix_df.copy()\n",
    "\n",
    "# Apply (T-t)^2 for variances of 4Y USD and 4Y EUR\n",
    "log_z1_4_cov_matrix_df.loc['4Y USD', '4Y USD'] *= T_minus_t_usd ** 2\n",
    "log_z1_4_cov_matrix_df.loc['4Y EUR', '4Y EUR'] *= T_minus_t_eur ** 2\n",
    "\n",
    "# Apply (T-t) * (S-t) for covariances involving 4Y USD and 4Y EUR with other terms\n",
    "for bond in ['4Y USD', '4Y EUR']:\n",
    "    for other_bond in required_variables:\n",
    "        if bond != other_bond:\n",
    "            T_minus_t_bond = T_minus_t_usd if bond == '4Y USD' else T_minus_t_eur\n",
    "            if '4Y USD' in other_bond:\n",
    "                T_minus_t_other = T_minus_t_usd\n",
    "            elif '4Y EUR' in other_bond:\n",
    "                T_minus_t_other = T_minus_t_eur\n",
    "            else:\n",
    "                T_minus_t_other = 1  # For other non-yield variables, we assume 1\n",
    "            log_z1_4_cov_matrix_df.loc[bond, other_bond] *= T_minus_t_bond * T_minus_t_other\n",
    "            log_z1_4_cov_matrix_df.loc[other_bond, bond] *= T_minus_t_bond * T_minus_t_other\n",
    "\n",
    "print(log_z1_4_cov_matrix_df)"
   ]
  }
 ],
 "metadata": {
  "kernelspec": {
   "display_name": "Python 3",
   "language": "python",
   "name": "python3"
  },
  "language_info": {
   "codemirror_mode": {
    "name": "ipython",
    "version": 3
   },
   "file_extension": ".py",
   "mimetype": "text/x-python",
   "name": "python",
   "nbconvert_exporter": "python",
   "pygments_lexer": "ipython3",
   "version": "3.12.4"
  }
 },
 "nbformat": 4,
 "nbformat_minor": 2
}
